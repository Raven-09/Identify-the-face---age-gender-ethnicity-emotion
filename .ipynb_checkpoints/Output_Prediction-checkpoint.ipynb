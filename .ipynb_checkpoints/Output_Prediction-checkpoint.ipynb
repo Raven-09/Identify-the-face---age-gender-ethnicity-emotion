{
 "cells": [
  {
   "cell_type": "markdown",
   "metadata": {},
   "source": [
    "### Import Libraries "
   ]
  },
  {
   "cell_type": "code",
   "execution_count": 43,
   "metadata": {},
   "outputs": [],
   "source": [
    "import pandas as pd\n",
    "import numpy as np\n",
    "import cv2\n",
    "import json\n",
    "from PIL import Image\n",
    "from keras.models import model_from_json"
   ]
  },
  {
   "cell_type": "markdown",
   "metadata": {},
   "source": [
    "### "
   ]
  },
  {
   "cell_type": "code",
   "execution_count": 58,
   "metadata": {},
   "outputs": [],
   "source": [
    "def predict_isFace(img):\n",
    "    json_file = open(\"face.json\", \"r\")\n",
    "    loaded_classifier_json = json_file.read()\n",
    "    json_file.close()\n",
    "\n",
    "    #load weights into new model\n",
    "    loaded_classifier = model_from_json(loaded_classifier_json)\n",
    "    loaded_classifier.load_weights(\"face.h5\")\n",
    "    \n",
    "    loaded_classifier.compile(optimizer = 'adam', loss = 'binary_crossentropy', metrics = ['accuracy'])\n",
    "    \n",
    "    y_pred = loaded_classifier.predict(img)\n",
    "    \n",
    "    return y_pred[0][0] < 0.5"
   ]
  },
  {
   "cell_type": "code",
   "execution_count": 45,
   "metadata": {},
   "outputs": [],
   "source": [
    "def predict_Age(img):\n",
    "    json_file = open(\"age.json\", \"r\")\n",
    "    loaded_classifier_json = json_file.read()\n",
    "    json_file.close()\n",
    "\n",
    "    #load weights into new model\n",
    "    loaded_classifier = model_from_json(loaded_classifier_json)\n",
    "    loaded_classifier.load_weights(\"age.h5\")\n",
    "    \n",
    "    loaded_classifier.compile(optimizer = 'adam', loss = 'categorical_crossentropy', metrics = ['accuracy'])\n",
    "    \n",
    "    y_pred = loaded_classifier.predict(img)\n",
    "    \n",
    "    if (y_pred[0].argmax() == 0):\n",
    "        return \"Age_20_30\"\n",
    "    elif (y_pred[0].argmax() == 1):\n",
    "        return \"Age_30_40\"\n",
    "    elif (y_pred[0].argmax() == 2):\n",
    "        return \"Age_40_50\"\n",
    "    elif (y_pred[0].argmax() == 3):\n",
    "        return \"Age_above_50\"\n",
    "    else:\n",
    "        return \"Age_below_20\"\n"
   ]
  },
  {
   "cell_type": "code",
   "execution_count": 46,
   "metadata": {},
   "outputs": [],
   "source": [
    "def predict_Gender(img):\n",
    "    json_file = open(\"gender.json\", \"r\")\n",
    "    loaded_classifier_json = json_file.read()\n",
    "    json_file.close()\n",
    "\n",
    "    #load weights into new model\n",
    "    loaded_classifier = model_from_json(loaded_classifier_json)\n",
    "    loaded_classifier.load_weights(\"gender.h5\")\n",
    "    \n",
    "    loaded_classifier.compile(optimizer = 'adam', loss = 'binary_crossentropy', metrics = ['accuracy'])\n",
    "    \n",
    "    y_pred = loaded_classifier.predict(img)\n",
    "    \n",
    "    if (y_pred[0][0] < 0.5):\n",
    "        return \"Female\"\n",
    "    else:\n",
    "        return \"Male\"\n"
   ]
  },
  {
   "cell_type": "code",
   "execution_count": 47,
   "metadata": {},
   "outputs": [],
   "source": [
    "def predict_Ethnicity(img):\n",
    "    json_file = open(\"race.json\", \"r\")\n",
    "    loaded_classifier_json = json_file.read()\n",
    "    json_file.close()\n",
    "\n",
    "    #load weights into new model\n",
    "    loaded_classifier = model_from_json(loaded_classifier_json)\n",
    "    loaded_classifier.load_weights(\"race.h5\")\n",
    "    \n",
    "    loaded_classifier.compile(optimizer = 'adam', loss = 'categorical_crossentropy', metrics = ['accuracy'])\n",
    "    \n",
    "    y_pred = loaded_classifier.predict(img)\n",
    "    \n",
    "    if (y_pred[0].argmax() == 0):\n",
    "        return \"Arab\"\n",
    "    elif (y_pred[0].argmax() == 1):\n",
    "        return \"Asian\"\n",
    "    elif (y_pred[0].argmax() == 2):\n",
    "        return \"Black\"\n",
    "    elif (y_pred[0].argmax() == 3):\n",
    "        return \"Hispanic\"\n",
    "    elif (y_pred[0].argmax() == 4):\n",
    "        return \"Indian\"\n",
    "    elif (y_pred[0].argmax() == 5):\n",
    "        return \"White\"\n"
   ]
  },
  {
   "cell_type": "code",
   "execution_count": 48,
   "metadata": {},
   "outputs": [],
   "source": [
    "def predict_Emotion(img):\n",
    "    json_file = open(\"emotions.json\", \"r\")\n",
    "    loaded_classifier_json = json_file.read()\n",
    "    json_file.close()\n",
    "\n",
    "    #load weights into new model\n",
    "    loaded_classifier = model_from_json(loaded_classifier_json)\n",
    "    loaded_classifier.load_weights(\"emotions.h5\")\n",
    "    \n",
    "    loaded_classifier.compile(optimizer = 'adam', loss = 'categorical_crossentropy', metrics = ['accuracy'])\n",
    "    \n",
    "    y_pred = loaded_classifier.predict(img)\n",
    "    \n",
    "    if (y_pred[0].argmax() == 0):\n",
    "        return \"Angry\"\n",
    "    elif (y_pred[0].argmax() == 1):\n",
    "        return \"Happy\"\n",
    "    elif (y_pred[0].argmax() == 2):\n",
    "        return \"Neutral\"\n",
    "    elif (y_pred[0].argmax() == 3):\n",
    "        return \"Sad\""
   ]
  },
  {
   "cell_type": "code",
   "execution_count": 69,
   "metadata": {},
   "outputs": [],
   "source": [
    "def detectFace(img):\n",
    "    face_cascade = cv2.CascadeClassifier('haarcascade_frontalface_default.xml')\n",
    "    eye_cascade = cv2.CascadeClassifier('haarcascade_eye.xml')\n",
    "    faces = face_cascade.detectMultiScale(img, 1.3, 5)\n",
    "    for (x,y,w,h) in faces:\n",
    "        gray_img = img[y:y+h, x:x+w]\n",
    "        return gray_img \n",
    "    \n",
    "    return img\n",
    "    "
   ]
  },
  {
   "cell_type": "code",
   "execution_count": 77,
   "metadata": {},
   "outputs": [
    {
     "name": "stdout",
     "output_type": "stream",
     "text": [
      "Not a  face\n"
     ]
    }
   ],
   "source": [
    "import PIL\n",
    "img = Image.open('Images/').convert('L')\n",
    "img.show()\n",
    "\n",
    "img_arr = np.array(img)\n",
    "\n",
    "img = detectFace(img_arr)\n",
    "\n",
    "img = Image.fromarray(img)\n",
    "img_arr = img.resize((50,50), PIL.Image.ANTIALIAS)\n",
    "\n",
    "img_arr = np.array(img_arr)\n",
    "\n",
    "img_arr = img_arr.reshape(1, 50, 50, 1).astype( 'float32' )\n",
    "\n",
    "is_face = predict_isFace(img_arr)\n",
    "\n",
    "if is_face:\n",
    "    print(\"A face\")\n",
    "    print(predict_Age(img_arr))\n",
    "    print(predict_Gender(img_arr))\n",
    "    print(predict_Emotion(img_arr))\n",
    "    print(predict_Ethnicity(img_arr))\n",
    "else:\n",
    "    print(\"Not a  face\")\n",
    "    "
   ]
  },
  {
   "cell_type": "code",
   "execution_count": null,
   "metadata": {},
   "outputs": [],
   "source": []
  }
 ],
 "metadata": {
  "kernelspec": {
   "display_name": "Python 3",
   "language": "python",
   "name": "python3"
  },
  "language_info": {
   "codemirror_mode": {
    "name": "ipython",
    "version": 3
   },
   "file_extension": ".py",
   "mimetype": "text/x-python",
   "name": "python",
   "nbconvert_exporter": "python",
   "pygments_lexer": "ipython3",
   "version": "3.7.3"
  }
 },
 "nbformat": 4,
 "nbformat_minor": 2
}
