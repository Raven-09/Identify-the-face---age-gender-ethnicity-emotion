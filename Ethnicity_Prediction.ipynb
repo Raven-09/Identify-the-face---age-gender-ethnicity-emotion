{
 "cells": [
  {
   "cell_type": "markdown",
   "metadata": {},
   "source": [
    "### Import Libraries"
   ]
  },
  {
   "cell_type": "code",
   "execution_count": 1,
   "metadata": {},
   "outputs": [],
   "source": [
    "import numpy as np\n",
    "import pandas as pd"
   ]
  },
  {
   "cell_type": "markdown",
   "metadata": {},
   "source": [
    "### Read Dataset"
   ]
  },
  {
   "cell_type": "code",
   "execution_count": 2,
   "metadata": {},
   "outputs": [
    {
     "data": {
      "text/html": [
       "<div>\n",
       "<style scoped>\n",
       "    .dataframe tbody tr th:only-of-type {\n",
       "        vertical-align: middle;\n",
       "    }\n",
       "\n",
       "    .dataframe tbody tr th {\n",
       "        vertical-align: top;\n",
       "    }\n",
       "\n",
       "    .dataframe thead th {\n",
       "        text-align: right;\n",
       "    }\n",
       "</style>\n",
       "<table border=\"1\" class=\"dataframe\">\n",
       "  <thead>\n",
       "    <tr style=\"text-align: right;\">\n",
       "      <th></th>\n",
       "      <th>Unnamed: 0</th>\n",
       "      <th>0</th>\n",
       "      <th>1</th>\n",
       "      <th>2</th>\n",
       "      <th>3</th>\n",
       "      <th>4</th>\n",
       "      <th>5</th>\n",
       "      <th>6</th>\n",
       "      <th>7</th>\n",
       "      <th>8</th>\n",
       "      <th>...</th>\n",
       "      <th>2494</th>\n",
       "      <th>2495</th>\n",
       "      <th>2496</th>\n",
       "      <th>2497</th>\n",
       "      <th>2498</th>\n",
       "      <th>2499</th>\n",
       "      <th>Emotion</th>\n",
       "      <th>Age</th>\n",
       "      <th>Color</th>\n",
       "      <th>Gender</th>\n",
       "    </tr>\n",
       "  </thead>\n",
       "  <tbody>\n",
       "    <tr>\n",
       "      <th>0</th>\n",
       "      <td>0</td>\n",
       "      <td>45</td>\n",
       "      <td>52</td>\n",
       "      <td>69</td>\n",
       "      <td>127</td>\n",
       "      <td>148</td>\n",
       "      <td>111</td>\n",
       "      <td>99</td>\n",
       "      <td>106</td>\n",
       "      <td>106</td>\n",
       "      <td>...</td>\n",
       "      <td>15</td>\n",
       "      <td>13</td>\n",
       "      <td>13</td>\n",
       "      <td>10</td>\n",
       "      <td>10</td>\n",
       "      <td>12</td>\n",
       "      <td>Emotion_Happy</td>\n",
       "      <td>Age_below20</td>\n",
       "      <td>E_White</td>\n",
       "      <td>G_Male</td>\n",
       "    </tr>\n",
       "    <tr>\n",
       "      <th>1</th>\n",
       "      <td>1</td>\n",
       "      <td>107</td>\n",
       "      <td>109</td>\n",
       "      <td>107</td>\n",
       "      <td>107</td>\n",
       "      <td>107</td>\n",
       "      <td>111</td>\n",
       "      <td>122</td>\n",
       "      <td>119</td>\n",
       "      <td>124</td>\n",
       "      <td>...</td>\n",
       "      <td>72</td>\n",
       "      <td>66</td>\n",
       "      <td>62</td>\n",
       "      <td>63</td>\n",
       "      <td>64</td>\n",
       "      <td>66</td>\n",
       "      <td>Emotion_Happy</td>\n",
       "      <td>Age_20_30</td>\n",
       "      <td>E_White</td>\n",
       "      <td>G_ Female</td>\n",
       "    </tr>\n",
       "    <tr>\n",
       "      <th>2</th>\n",
       "      <td>2</td>\n",
       "      <td>159</td>\n",
       "      <td>163</td>\n",
       "      <td>166</td>\n",
       "      <td>171</td>\n",
       "      <td>149</td>\n",
       "      <td>90</td>\n",
       "      <td>65</td>\n",
       "      <td>64</td>\n",
       "      <td>73</td>\n",
       "      <td>...</td>\n",
       "      <td>215</td>\n",
       "      <td>222</td>\n",
       "      <td>224</td>\n",
       "      <td>224</td>\n",
       "      <td>225</td>\n",
       "      <td>227</td>\n",
       "      <td>Emotion_Happy</td>\n",
       "      <td>Age_20_30</td>\n",
       "      <td>E_Hispanic</td>\n",
       "      <td>G_ Female</td>\n",
       "    </tr>\n",
       "    <tr>\n",
       "      <th>3</th>\n",
       "      <td>3</td>\n",
       "      <td>178</td>\n",
       "      <td>161</td>\n",
       "      <td>69</td>\n",
       "      <td>32</td>\n",
       "      <td>49</td>\n",
       "      <td>50</td>\n",
       "      <td>40</td>\n",
       "      <td>40</td>\n",
       "      <td>52</td>\n",
       "      <td>...</td>\n",
       "      <td>252</td>\n",
       "      <td>252</td>\n",
       "      <td>253</td>\n",
       "      <td>252</td>\n",
       "      <td>251</td>\n",
       "      <td>249</td>\n",
       "      <td>Emotion_Happy</td>\n",
       "      <td>Age_20_30</td>\n",
       "      <td>E_White</td>\n",
       "      <td>G_ Female</td>\n",
       "    </tr>\n",
       "    <tr>\n",
       "      <th>4</th>\n",
       "      <td>4</td>\n",
       "      <td>117</td>\n",
       "      <td>104</td>\n",
       "      <td>100</td>\n",
       "      <td>119</td>\n",
       "      <td>136</td>\n",
       "      <td>160</td>\n",
       "      <td>169</td>\n",
       "      <td>168</td>\n",
       "      <td>159</td>\n",
       "      <td>...</td>\n",
       "      <td>180</td>\n",
       "      <td>177</td>\n",
       "      <td>153</td>\n",
       "      <td>133</td>\n",
       "      <td>153</td>\n",
       "      <td>149</td>\n",
       "      <td>Emotion_Happy</td>\n",
       "      <td>Age_20_30</td>\n",
       "      <td>E_White</td>\n",
       "      <td>G_ Female</td>\n",
       "    </tr>\n",
       "    <tr>\n",
       "      <th>5</th>\n",
       "      <td>5</td>\n",
       "      <td>235</td>\n",
       "      <td>236</td>\n",
       "      <td>235</td>\n",
       "      <td>229</td>\n",
       "      <td>217</td>\n",
       "      <td>195</td>\n",
       "      <td>168</td>\n",
       "      <td>139</td>\n",
       "      <td>109</td>\n",
       "      <td>...</td>\n",
       "      <td>56</td>\n",
       "      <td>61</td>\n",
       "      <td>72</td>\n",
       "      <td>82</td>\n",
       "      <td>89</td>\n",
       "      <td>94</td>\n",
       "      <td>Emotion_Neutral</td>\n",
       "      <td>Age_20_30</td>\n",
       "      <td>E_Asian</td>\n",
       "      <td>G_ Female</td>\n",
       "    </tr>\n",
       "    <tr>\n",
       "      <th>6</th>\n",
       "      <td>6</td>\n",
       "      <td>119</td>\n",
       "      <td>117</td>\n",
       "      <td>115</td>\n",
       "      <td>113</td>\n",
       "      <td>108</td>\n",
       "      <td>102</td>\n",
       "      <td>97</td>\n",
       "      <td>91</td>\n",
       "      <td>86</td>\n",
       "      <td>...</td>\n",
       "      <td>47</td>\n",
       "      <td>53</td>\n",
       "      <td>55</td>\n",
       "      <td>56</td>\n",
       "      <td>57</td>\n",
       "      <td>58</td>\n",
       "      <td>Emotion_Neutral</td>\n",
       "      <td>Age_below20</td>\n",
       "      <td>E_White</td>\n",
       "      <td>G_ Female</td>\n",
       "    </tr>\n",
       "    <tr>\n",
       "      <th>7</th>\n",
       "      <td>7</td>\n",
       "      <td>80</td>\n",
       "      <td>81</td>\n",
       "      <td>81</td>\n",
       "      <td>81</td>\n",
       "      <td>82</td>\n",
       "      <td>82</td>\n",
       "      <td>83</td>\n",
       "      <td>83</td>\n",
       "      <td>84</td>\n",
       "      <td>...</td>\n",
       "      <td>86</td>\n",
       "      <td>86</td>\n",
       "      <td>85</td>\n",
       "      <td>85</td>\n",
       "      <td>85</td>\n",
       "      <td>85</td>\n",
       "      <td>Emotion_Neutral</td>\n",
       "      <td>Age_20_30</td>\n",
       "      <td>E_White</td>\n",
       "      <td>G_ Female</td>\n",
       "    </tr>\n",
       "    <tr>\n",
       "      <th>8</th>\n",
       "      <td>8</td>\n",
       "      <td>163</td>\n",
       "      <td>166</td>\n",
       "      <td>167</td>\n",
       "      <td>170</td>\n",
       "      <td>176</td>\n",
       "      <td>183</td>\n",
       "      <td>191</td>\n",
       "      <td>201</td>\n",
       "      <td>208</td>\n",
       "      <td>...</td>\n",
       "      <td>228</td>\n",
       "      <td>229</td>\n",
       "      <td>229</td>\n",
       "      <td>229</td>\n",
       "      <td>229</td>\n",
       "      <td>229</td>\n",
       "      <td>Emotion_Neutral</td>\n",
       "      <td>Age_20_30</td>\n",
       "      <td>E_Asian</td>\n",
       "      <td>G_ Female</td>\n",
       "    </tr>\n",
       "    <tr>\n",
       "      <th>9</th>\n",
       "      <td>9</td>\n",
       "      <td>174</td>\n",
       "      <td>174</td>\n",
       "      <td>175</td>\n",
       "      <td>177</td>\n",
       "      <td>177</td>\n",
       "      <td>176</td>\n",
       "      <td>176</td>\n",
       "      <td>175</td>\n",
       "      <td>175</td>\n",
       "      <td>...</td>\n",
       "      <td>150</td>\n",
       "      <td>138</td>\n",
       "      <td>138</td>\n",
       "      <td>148</td>\n",
       "      <td>159</td>\n",
       "      <td>167</td>\n",
       "      <td>Not_Face</td>\n",
       "      <td>0</td>\n",
       "      <td>0</td>\n",
       "      <td>0</td>\n",
       "    </tr>\n",
       "  </tbody>\n",
       "</table>\n",
       "<p>10 rows × 2505 columns</p>\n",
       "</div>"
      ],
      "text/plain": [
       "   Unnamed: 0    0    1    2    3    4    5    6    7    8  ...  2494  2495  \\\n",
       "0           0   45   52   69  127  148  111   99  106  106  ...    15    13   \n",
       "1           1  107  109  107  107  107  111  122  119  124  ...    72    66   \n",
       "2           2  159  163  166  171  149   90   65   64   73  ...   215   222   \n",
       "3           3  178  161   69   32   49   50   40   40   52  ...   252   252   \n",
       "4           4  117  104  100  119  136  160  169  168  159  ...   180   177   \n",
       "5           5  235  236  235  229  217  195  168  139  109  ...    56    61   \n",
       "6           6  119  117  115  113  108  102   97   91   86  ...    47    53   \n",
       "7           7   80   81   81   81   82   82   83   83   84  ...    86    86   \n",
       "8           8  163  166  167  170  176  183  191  201  208  ...   228   229   \n",
       "9           9  174  174  175  177  177  176  176  175  175  ...   150   138   \n",
       "\n",
       "   2496  2497  2498  2499          Emotion          Age       Color     Gender  \n",
       "0    13    10    10    12    Emotion_Happy  Age_below20     E_White     G_Male  \n",
       "1    62    63    64    66    Emotion_Happy    Age_20_30     E_White  G_ Female  \n",
       "2   224   224   225   227    Emotion_Happy    Age_20_30  E_Hispanic  G_ Female  \n",
       "3   253   252   251   249    Emotion_Happy    Age_20_30     E_White  G_ Female  \n",
       "4   153   133   153   149    Emotion_Happy    Age_20_30     E_White  G_ Female  \n",
       "5    72    82    89    94  Emotion_Neutral    Age_20_30     E_Asian  G_ Female  \n",
       "6    55    56    57    58  Emotion_Neutral  Age_below20     E_White  G_ Female  \n",
       "7    85    85    85    85  Emotion_Neutral    Age_20_30     E_White  G_ Female  \n",
       "8   229   229   229   229  Emotion_Neutral    Age_20_30     E_Asian  G_ Female  \n",
       "9   138   148   159   167         Not_Face            0           0          0  \n",
       "\n",
       "[10 rows x 2505 columns]"
      ]
     },
     "execution_count": 2,
     "metadata": {},
     "output_type": "execute_result"
    }
   ],
   "source": [
    "data_frame = pd.read_csv('final_dataset.csv')\n",
    "data_frame.head(10)"
   ]
  },
  {
   "cell_type": "markdown",
   "metadata": {},
   "source": [
    "### Data Cleaning"
   ]
  },
  {
   "cell_type": "code",
   "execution_count": 3,
   "metadata": {},
   "outputs": [
    {
     "data": {
      "text/plain": [
       "0              150\n",
       "E_White         99\n",
       "E_Indian        49\n",
       "E_Black         19\n",
       "E_Asian         15\n",
       "E_Hispanic       7\n",
       "G_ Female        6\n",
       "G_Male           3\n",
       "E_Arab           1\n",
       "Age_30_40        1\n",
       "Age_below20      1\n",
       "Name: Color, dtype: int64"
      ]
     },
     "execution_count": 3,
     "metadata": {},
     "output_type": "execute_result"
    }
   ],
   "source": [
    "data_frame['Color'].value_counts()"
   ]
  },
  {
   "cell_type": "code",
   "execution_count": 4,
   "metadata": {},
   "outputs": [
    {
     "data": {
      "text/plain": [
       "0              150\n",
       "E_White         99\n",
       "E_Indian        49\n",
       "E_Black         19\n",
       "E_Asian         15\n",
       "E_Hispanic       7\n",
       "G_ Female        6\n",
       "G_Male           3\n",
       "E_Arab           1\n",
       "Age_below20      1\n",
       "Name: Color, dtype: int64"
      ]
     },
     "execution_count": 4,
     "metadata": {},
     "output_type": "execute_result"
    }
   ],
   "source": [
    "data_frame = data_frame[data_frame['Color']!=\"Age_30_40\"]\n",
    "data_frame['Color'].value_counts()"
   ]
  },
  {
   "cell_type": "code",
   "execution_count": 5,
   "metadata": {},
   "outputs": [
    {
     "data": {
      "text/plain": [
       "0             150\n",
       "E_White        99\n",
       "E_Indian       49\n",
       "E_Black        19\n",
       "E_Asian        15\n",
       "E_Hispanic      7\n",
       "G_ Female       6\n",
       "G_Male          3\n",
       "E_Arab          1\n",
       "Name: Color, dtype: int64"
      ]
     },
     "execution_count": 5,
     "metadata": {},
     "output_type": "execute_result"
    }
   ],
   "source": [
    "data_frame = data_frame[data_frame['Color']!=\"Age_below20\"]\n",
    "data_frame['Color'].value_counts()"
   ]
  },
  {
   "cell_type": "code",
   "execution_count": 6,
   "metadata": {},
   "outputs": [
    {
     "data": {
      "text/plain": [
       "E_White       99\n",
       "E_Indian      49\n",
       "E_Black       19\n",
       "E_Asian       15\n",
       "E_Hispanic     7\n",
       "G_ Female      6\n",
       "G_Male         3\n",
       "E_Arab         1\n",
       "Name: Color, dtype: int64"
      ]
     },
     "execution_count": 6,
     "metadata": {},
     "output_type": "execute_result"
    }
   ],
   "source": [
    "data_frame = data_frame[data_frame['Color']!=\"0\"]\n",
    "data_frame['Color'].value_counts()"
   ]
  },
  {
   "cell_type": "code",
   "execution_count": 7,
   "metadata": {},
   "outputs": [
    {
     "data": {
      "text/plain": [
       "E_White       99\n",
       "E_Indian      49\n",
       "E_Black       19\n",
       "E_Asian       15\n",
       "E_Hispanic     7\n",
       "G_ Female      6\n",
       "E_Arab         1\n",
       "Name: Color, dtype: int64"
      ]
     },
     "execution_count": 7,
     "metadata": {},
     "output_type": "execute_result"
    }
   ],
   "source": [
    "data_frame = data_frame[data_frame['Color']!=\"G_Male\"]\n",
    "data_frame['Color'].value_counts()"
   ]
  },
  {
   "cell_type": "code",
   "execution_count": 8,
   "metadata": {},
   "outputs": [
    {
     "data": {
      "text/plain": [
       "E_White       99\n",
       "E_Indian      49\n",
       "E_Black       19\n",
       "E_Asian       15\n",
       "E_Hispanic     7\n",
       "E_Arab         1\n",
       "Name: Color, dtype: int64"
      ]
     },
     "execution_count": 8,
     "metadata": {},
     "output_type": "execute_result"
    }
   ],
   "source": [
    "data_frame = data_frame[data_frame['Color']!=\"G_ Female\"]\n",
    "data_frame['Color'].value_counts()"
   ]
  },
  {
   "cell_type": "code",
   "execution_count": 9,
   "metadata": {},
   "outputs": [],
   "source": [
    "X = data_frame.iloc[:,1:2501]\n",
    "y = data_frame['Color']"
   ]
  },
  {
   "cell_type": "code",
   "execution_count": 10,
   "metadata": {},
   "outputs": [
    {
     "data": {
      "text/html": [
       "<div>\n",
       "<style scoped>\n",
       "    .dataframe tbody tr th:only-of-type {\n",
       "        vertical-align: middle;\n",
       "    }\n",
       "\n",
       "    .dataframe tbody tr th {\n",
       "        vertical-align: top;\n",
       "    }\n",
       "\n",
       "    .dataframe thead th {\n",
       "        text-align: right;\n",
       "    }\n",
       "</style>\n",
       "<table border=\"1\" class=\"dataframe\">\n",
       "  <thead>\n",
       "    <tr style=\"text-align: right;\">\n",
       "      <th></th>\n",
       "      <th>0</th>\n",
       "      <th>1</th>\n",
       "      <th>2</th>\n",
       "      <th>3</th>\n",
       "      <th>4</th>\n",
       "      <th>5</th>\n",
       "      <th>6</th>\n",
       "      <th>7</th>\n",
       "      <th>8</th>\n",
       "      <th>9</th>\n",
       "      <th>...</th>\n",
       "      <th>2490</th>\n",
       "      <th>2491</th>\n",
       "      <th>2492</th>\n",
       "      <th>2493</th>\n",
       "      <th>2494</th>\n",
       "      <th>2495</th>\n",
       "      <th>2496</th>\n",
       "      <th>2497</th>\n",
       "      <th>2498</th>\n",
       "      <th>2499</th>\n",
       "    </tr>\n",
       "  </thead>\n",
       "  <tbody>\n",
       "    <tr>\n",
       "      <th>0</th>\n",
       "      <td>45</td>\n",
       "      <td>52</td>\n",
       "      <td>69</td>\n",
       "      <td>127</td>\n",
       "      <td>148</td>\n",
       "      <td>111</td>\n",
       "      <td>99</td>\n",
       "      <td>106</td>\n",
       "      <td>106</td>\n",
       "      <td>136</td>\n",
       "      <td>...</td>\n",
       "      <td>15</td>\n",
       "      <td>15</td>\n",
       "      <td>16</td>\n",
       "      <td>16</td>\n",
       "      <td>15</td>\n",
       "      <td>13</td>\n",
       "      <td>13</td>\n",
       "      <td>10</td>\n",
       "      <td>10</td>\n",
       "      <td>12</td>\n",
       "    </tr>\n",
       "    <tr>\n",
       "      <th>1</th>\n",
       "      <td>107</td>\n",
       "      <td>109</td>\n",
       "      <td>107</td>\n",
       "      <td>107</td>\n",
       "      <td>107</td>\n",
       "      <td>111</td>\n",
       "      <td>122</td>\n",
       "      <td>119</td>\n",
       "      <td>124</td>\n",
       "      <td>76</td>\n",
       "      <td>...</td>\n",
       "      <td>142</td>\n",
       "      <td>122</td>\n",
       "      <td>158</td>\n",
       "      <td>135</td>\n",
       "      <td>72</td>\n",
       "      <td>66</td>\n",
       "      <td>62</td>\n",
       "      <td>63</td>\n",
       "      <td>64</td>\n",
       "      <td>66</td>\n",
       "    </tr>\n",
       "    <tr>\n",
       "      <th>2</th>\n",
       "      <td>159</td>\n",
       "      <td>163</td>\n",
       "      <td>166</td>\n",
       "      <td>171</td>\n",
       "      <td>149</td>\n",
       "      <td>90</td>\n",
       "      <td>65</td>\n",
       "      <td>64</td>\n",
       "      <td>73</td>\n",
       "      <td>70</td>\n",
       "      <td>...</td>\n",
       "      <td>244</td>\n",
       "      <td>255</td>\n",
       "      <td>212</td>\n",
       "      <td>200</td>\n",
       "      <td>215</td>\n",
       "      <td>222</td>\n",
       "      <td>224</td>\n",
       "      <td>224</td>\n",
       "      <td>225</td>\n",
       "      <td>227</td>\n",
       "    </tr>\n",
       "    <tr>\n",
       "      <th>3</th>\n",
       "      <td>178</td>\n",
       "      <td>161</td>\n",
       "      <td>69</td>\n",
       "      <td>32</td>\n",
       "      <td>49</td>\n",
       "      <td>50</td>\n",
       "      <td>40</td>\n",
       "      <td>40</td>\n",
       "      <td>52</td>\n",
       "      <td>40</td>\n",
       "      <td>...</td>\n",
       "      <td>252</td>\n",
       "      <td>251</td>\n",
       "      <td>252</td>\n",
       "      <td>252</td>\n",
       "      <td>252</td>\n",
       "      <td>252</td>\n",
       "      <td>253</td>\n",
       "      <td>252</td>\n",
       "      <td>251</td>\n",
       "      <td>249</td>\n",
       "    </tr>\n",
       "    <tr>\n",
       "      <th>4</th>\n",
       "      <td>117</td>\n",
       "      <td>104</td>\n",
       "      <td>100</td>\n",
       "      <td>119</td>\n",
       "      <td>136</td>\n",
       "      <td>160</td>\n",
       "      <td>169</td>\n",
       "      <td>168</td>\n",
       "      <td>159</td>\n",
       "      <td>167</td>\n",
       "      <td>...</td>\n",
       "      <td>162</td>\n",
       "      <td>150</td>\n",
       "      <td>113</td>\n",
       "      <td>145</td>\n",
       "      <td>180</td>\n",
       "      <td>177</td>\n",
       "      <td>153</td>\n",
       "      <td>133</td>\n",
       "      <td>153</td>\n",
       "      <td>149</td>\n",
       "    </tr>\n",
       "  </tbody>\n",
       "</table>\n",
       "<p>5 rows × 2500 columns</p>\n",
       "</div>"
      ],
      "text/plain": [
       "     0    1    2    3    4    5    6    7    8    9  ...  2490  2491  2492  \\\n",
       "0   45   52   69  127  148  111   99  106  106  136  ...    15    15    16   \n",
       "1  107  109  107  107  107  111  122  119  124   76  ...   142   122   158   \n",
       "2  159  163  166  171  149   90   65   64   73   70  ...   244   255   212   \n",
       "3  178  161   69   32   49   50   40   40   52   40  ...   252   251   252   \n",
       "4  117  104  100  119  136  160  169  168  159  167  ...   162   150   113   \n",
       "\n",
       "   2493  2494  2495  2496  2497  2498  2499  \n",
       "0    16    15    13    13    10    10    12  \n",
       "1   135    72    66    62    63    64    66  \n",
       "2   200   215   222   224   224   225   227  \n",
       "3   252   252   252   253   252   251   249  \n",
       "4   145   180   177   153   133   153   149  \n",
       "\n",
       "[5 rows x 2500 columns]"
      ]
     },
     "execution_count": 10,
     "metadata": {},
     "output_type": "execute_result"
    }
   ],
   "source": [
    "X.head()"
   ]
  },
  {
   "cell_type": "code",
   "execution_count": 11,
   "metadata": {},
   "outputs": [
    {
     "data": {
      "text/plain": [
       "0       E_White\n",
       "1       E_White\n",
       "2    E_Hispanic\n",
       "3       E_White\n",
       "4       E_White\n",
       "Name: Color, dtype: object"
      ]
     },
     "execution_count": 11,
     "metadata": {},
     "output_type": "execute_result"
    }
   ],
   "source": [
    "y.head()"
   ]
  },
  {
   "cell_type": "markdown",
   "metadata": {},
   "source": [
    "### Data Preprocessing"
   ]
  },
  {
   "cell_type": "code",
   "execution_count": 15,
   "metadata": {},
   "outputs": [],
   "source": [
    "from sklearn import preprocessing\n",
    "lb = preprocessing.LabelBinarizer()\n",
    "y_train = lb.fit_transform(y)"
   ]
  },
  {
   "cell_type": "code",
   "execution_count": 16,
   "metadata": {},
   "outputs": [
    {
     "data": {
      "text/plain": [
       "array([[0, 0, 0, 0, 0, 1],\n",
       "       [0, 0, 0, 0, 0, 1],\n",
       "       [0, 0, 0, 1, 0, 0],\n",
       "       ...,\n",
       "       [0, 0, 1, 0, 0, 0],\n",
       "       [0, 0, 0, 0, 0, 1],\n",
       "       [0, 0, 0, 0, 0, 1]])"
      ]
     },
     "execution_count": 16,
     "metadata": {},
     "output_type": "execute_result"
    }
   ],
   "source": [
    "y_train"
   ]
  },
  {
   "cell_type": "code",
   "execution_count": 17,
   "metadata": {},
   "outputs": [
    {
     "data": {
      "text/plain": [
       "(190, 6)"
      ]
     },
     "execution_count": 17,
     "metadata": {},
     "output_type": "execute_result"
    }
   ],
   "source": [
    "y_train.shape"
   ]
  },
  {
   "cell_type": "code",
   "execution_count": 18,
   "metadata": {},
   "outputs": [],
   "source": [
    "from sklearn.preprocessing import StandardScaler\n",
    "sc = StandardScaler()\n",
    "X_train = sc.fit_transform(X)"
   ]
  },
  {
   "cell_type": "markdown",
   "metadata": {},
   "source": [
    "### Model Building"
   ]
  },
  {
   "cell_type": "code",
   "execution_count": 19,
   "metadata": {},
   "outputs": [
    {
     "name": "stderr",
     "output_type": "stream",
     "text": [
      "Using TensorFlow backend.\n"
     ]
    }
   ],
   "source": [
    "from keras.layers import Dense\n",
    "from keras.layers import MaxPooling2D\n",
    "from keras.layers import Convolution2D\n",
    "from keras.layers import Flatten\n",
    "from keras.models import Sequential"
   ]
  },
  {
   "cell_type": "code",
   "execution_count": 20,
   "metadata": {},
   "outputs": [
    {
     "name": "stdout",
     "output_type": "stream",
     "text": [
      "WARNING:tensorflow:From C:\\Users\\Dell\\Anaconda3\\envs\\tfp3.6\\lib\\site-packages\\tensorflow\\python\\framework\\op_def_library.py:263: colocate_with (from tensorflow.python.framework.ops) is deprecated and will be removed in a future version.\n",
      "Instructions for updating:\n",
      "Colocations handled automatically by placer.\n"
     ]
    },
    {
     "name": "stderr",
     "output_type": "stream",
     "text": [
      "C:\\Users\\Dell\\Anaconda3\\envs\\tfp3.6\\lib\\site-packages\\ipykernel_launcher.py:9: UserWarning: Update your `Dense` call to the Keras 2 API: `Dense(activation=\"relu\", units=128)`\n",
      "  if __name__ == '__main__':\n",
      "C:\\Users\\Dell\\Anaconda3\\envs\\tfp3.6\\lib\\site-packages\\ipykernel_launcher.py:10: UserWarning: Update your `Dense` call to the Keras 2 API: `Dense(activation=\"softmax\", units=6)`\n",
      "  # Remove the CWD from sys.path while we load stuff.\n"
     ]
    }
   ],
   "source": [
    "model = Sequential()\n",
    "model.add(Convolution2D(30,3, input_shape = (50,50,1), activation = 'relu', padding = 'same'))\n",
    "model.add(MaxPooling2D(pool_size= (2,2)))\n",
    "model.add(Convolution2D(40,3, activation = 'relu', padding = 'same'))\n",
    "model.add(Convolution2D(45,3, activation = 'relu', padding = 'same'))\n",
    "model.add(MaxPooling2D(pool_size= (2,2))) \n",
    "model.add(Convolution2D(50,3, activation = 'relu', padding = 'same'))\n",
    "model.add(Flatten())\n",
    "model.add(Dense(output_dim = 128, activation = 'relu'))\n",
    "model.add(Dense(output_dim = 6, activation = 'softmax'))"
   ]
  },
  {
   "cell_type": "code",
   "execution_count": 21,
   "metadata": {},
   "outputs": [],
   "source": [
    "model.compile(optimizer='adam', loss = 'categorical_crossentropy', metrics  = ['accuracy'])"
   ]
  },
  {
   "cell_type": "code",
   "execution_count": 22,
   "metadata": {},
   "outputs": [],
   "source": [
    "trainX = X_train.reshape(X_train.shape[0],50, 50, 1).astype( 'float32' )"
   ]
  },
  {
   "cell_type": "markdown",
   "metadata": {},
   "source": [
    "### Training the Model"
   ]
  },
  {
   "cell_type": "code",
   "execution_count": 23,
   "metadata": {},
   "outputs": [
    {
     "name": "stdout",
     "output_type": "stream",
     "text": [
      "WARNING:tensorflow:From C:\\Users\\Dell\\Anaconda3\\envs\\tfp3.6\\lib\\site-packages\\tensorflow\\python\\ops\\math_ops.py:3066: to_int32 (from tensorflow.python.ops.math_ops) is deprecated and will be removed in a future version.\n",
      "Instructions for updating:\n",
      "Use tf.cast instead.\n",
      "Epoch 1/10\n",
      "190/190 [==============================] - 4s 21ms/step - loss: 1.5102 - acc: 0.4842\n",
      "Epoch 2/10\n",
      "190/190 [==============================] - 3s 14ms/step - loss: 1.2978 - acc: 0.5263\n",
      "Epoch 3/10\n",
      "190/190 [==============================] - 3s 13ms/step - loss: 1.2756 - acc: 0.5053\n",
      "Epoch 4/10\n",
      "190/190 [==============================] - 3s 14ms/step - loss: 1.1923 - acc: 0.5263\n",
      "Epoch 5/10\n",
      "190/190 [==============================] - 3s 14ms/step - loss: 1.1015 - acc: 0.5947\n",
      "Epoch 6/10\n",
      "190/190 [==============================] - 3s 14ms/step - loss: 0.9086 - acc: 0.6158\n",
      "Epoch 7/10\n",
      "190/190 [==============================] - 3s 14ms/step - loss: 0.7386 - acc: 0.7053\n",
      "Epoch 8/10\n",
      "190/190 [==============================] - 3s 14ms/step - loss: 0.4302 - acc: 0.8579\n",
      "Epoch 9/10\n",
      "190/190 [==============================] - 3s 14ms/step - loss: 0.2102 - acc: 0.9316\n",
      "Epoch 10/10\n",
      "190/190 [==============================] - 3s 14ms/step - loss: 0.1682 - acc: 0.9684\n"
     ]
    },
    {
     "data": {
      "text/plain": [
       "<keras.callbacks.History at 0x133627eaf60>"
      ]
     },
     "execution_count": 23,
     "metadata": {},
     "output_type": "execute_result"
    }
   ],
   "source": [
    "model.fit(trainX, y_train, batch_size=10, epochs = 10)"
   ]
  },
  {
   "cell_type": "markdown",
   "metadata": {},
   "source": [
    "### Save weights"
   ]
  },
  {
   "cell_type": "code",
   "execution_count": 24,
   "metadata": {},
   "outputs": [
    {
     "name": "stdout",
     "output_type": "stream",
     "text": [
      "Saved\n"
     ]
    }
   ],
   "source": [
    "model_json = model.to_json()\n",
    "with open(\"race.json\", \"w\") as json_file:\n",
    "    json_file.write(model_json)\n",
    "    \n",
    "#serialise weights as HDF5\n",
    "\n",
    "model.save_weights(\"race.h5\")\n",
    "print(\"Saved\")\n"
   ]
  },
  {
   "cell_type": "code",
   "execution_count": null,
   "metadata": {},
   "outputs": [],
   "source": []
  }
 ],
 "metadata": {
  "kernelspec": {
   "display_name": "Python 3",
   "language": "python",
   "name": "python3"
  },
  "language_info": {
   "codemirror_mode": {
    "name": "ipython",
    "version": 3
   },
   "file_extension": ".py",
   "mimetype": "text/x-python",
   "name": "python",
   "nbconvert_exporter": "python",
   "pygments_lexer": "ipython3",
   "version": "3.7.3"
  }
 },
 "nbformat": 4,
 "nbformat_minor": 2
}
